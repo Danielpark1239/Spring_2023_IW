{
  "nbformat": 4,
  "nbformat_minor": 0,
  "metadata": {
    "colab": {
      "provenance": [],
      "authorship_tag": "ABX9TyPow48et+K8RnY3uPPt4ote",
      "include_colab_link": true
    },
    "kernelspec": {
      "name": "python3",
      "display_name": "Python 3"
    },
    "language_info": {
      "name": "python"
    }
  },
  "cells": [
    {
      "cell_type": "markdown",
      "metadata": {
        "id": "view-in-github",
        "colab_type": "text"
      },
      "source": [
        "<a href=\"https://colab.research.google.com/github/Danielpark1239/Spring_2023_IW/blob/main/COS398_IW.ipynb\" target=\"_parent\"><img src=\"https://colab.research.google.com/assets/colab-badge.svg\" alt=\"Open In Colab\"/></a>"
      ]
    },
    {
      "cell_type": "code",
      "execution_count": null,
      "metadata": {
        "id": "aMgG0qvhMhcM"
      },
      "outputs": [],
      "source": [
        "# Imports\n",
        "import pandas as pd\n",
        "import sqlite3\n",
        "import numpy as np\n",
        "import matplotlib.pyplot as plt"
      ]
    },
    {
      "cell_type": "code",
      "source": [
        "# Import data from drive\n",
        "from google.colab import drive\n",
        "drive.mount(\"/content/drive/\")\n",
        "%cd drive/MyDrive/COS398_IW/"
      ],
      "metadata": {
        "colab": {
          "base_uri": "https://localhost:8080/"
        },
        "id": "AWIsJ97h8ynB",
        "outputId": "d94cd8ae-3bb5-4289-92b0-ae167985a397"
      },
      "execution_count": null,
      "outputs": [
        {
          "output_type": "stream",
          "name": "stdout",
          "text": [
            "Drive already mounted at /content/drive/; to attempt to forcibly remount, call drive.mount(\"/content/drive/\", force_remount=True).\n",
            "/content/drive/MyDrive/COS398_IW\n"
          ]
        }
      ]
    },
    {
      "cell_type": "code",
      "source": [
        "# Create DB conn and pandas dataframes of tables\n",
        "conn = sqlite3.connect(\"database.sqlite\")\n",
        "player_df = pd.read_sql_query(\"SELECT * FROM Player\", conn)\n",
        "player_attributes_df = pd.read_sql_query(\"SELECT * FROM Player_Attributes\", conn)\n",
        "team_df = pd.read_sql_query(\"SELECT * FROM Team\", conn)\n",
        "team_attributes_df = pd.read_sql_query(\"SELECT * FROM Team_Attributes\", conn)\n",
        "match_df = pd.read_sql_query(\"SELECT * FROM Match\", conn)\n",
        "league_df = pd.read_sql_query(\"SELECT * FROM League\". conn)\n",
        "country_df = pd.read_sql_query(\"SELECT * FROM Country\", conn)"
      ],
      "metadata": {
        "id": "Bafk1g3aNEFd",
        "outputId": "b860ebad-7694-4baa-c079-5e3c597e96ce",
        "colab": {
          "base_uri": "https://localhost:8080/",
          "height": 227
        }
      },
      "execution_count": null,
      "outputs": [
        {
          "output_type": "error",
          "ename": "AttributeError",
          "evalue": "ignored",
          "traceback": [
            "\u001b[0;31m---------------------------------------------------------------------------\u001b[0m",
            "\u001b[0;31mAttributeError\u001b[0m                            Traceback (most recent call last)",
            "\u001b[0;32m<ipython-input-5-96d7af4eb905>\u001b[0m in \u001b[0;36m<module>\u001b[0;34m\u001b[0m\n\u001b[1;32m      6\u001b[0m \u001b[0mteam_attributes_df\u001b[0m \u001b[0;34m=\u001b[0m \u001b[0mpd\u001b[0m\u001b[0;34m.\u001b[0m\u001b[0mread_sql_query\u001b[0m\u001b[0;34m(\u001b[0m\u001b[0;34m\"SELECT * FROM Team_Attributes\"\u001b[0m\u001b[0;34m,\u001b[0m \u001b[0mconn\u001b[0m\u001b[0;34m)\u001b[0m\u001b[0;34m\u001b[0m\u001b[0;34m\u001b[0m\u001b[0m\n\u001b[1;32m      7\u001b[0m \u001b[0mmatch_df\u001b[0m \u001b[0;34m=\u001b[0m \u001b[0mpd\u001b[0m\u001b[0;34m.\u001b[0m\u001b[0mread_sql_query\u001b[0m\u001b[0;34m(\u001b[0m\u001b[0;34m\"SELECT * FROM Match\"\u001b[0m\u001b[0;34m,\u001b[0m \u001b[0mconn\u001b[0m\u001b[0;34m)\u001b[0m\u001b[0;34m\u001b[0m\u001b[0;34m\u001b[0m\u001b[0m\n\u001b[0;32m----> 8\u001b[0;31m \u001b[0mleague_df\u001b[0m \u001b[0;34m=\u001b[0m \u001b[0mpd\u001b[0m\u001b[0;34m.\u001b[0m\u001b[0mread_sql_query\u001b[0m\u001b[0;34m(\u001b[0m\u001b[0;34m\"SELECT * FROM League\"\u001b[0m\u001b[0;34m.\u001b[0m \u001b[0mconn\u001b[0m\u001b[0;34m)\u001b[0m\u001b[0;34m\u001b[0m\u001b[0;34m\u001b[0m\u001b[0m\n\u001b[0m\u001b[1;32m      9\u001b[0m \u001b[0mcountry_df\u001b[0m \u001b[0;34m=\u001b[0m \u001b[0mpd\u001b[0m\u001b[0;34m.\u001b[0m\u001b[0mread_sql_query\u001b[0m\u001b[0;34m(\u001b[0m\u001b[0;34m\"SELECT * FROM Country\"\u001b[0m\u001b[0;34m,\u001b[0m \u001b[0mconn\u001b[0m\u001b[0;34m)\u001b[0m\u001b[0;34m\u001b[0m\u001b[0;34m\u001b[0m\u001b[0m\n",
            "\u001b[0;31mAttributeError\u001b[0m: 'str' object has no attribute 'conn'"
          ]
        }
      ]
    },
    {
      "cell_type": "code",
      "source": [
        "# print(player_df[:10])\n",
        "# print(player_attributes_df[:10])\n",
        "# print(team_df[:10])\n",
        "# print(team_attributes_df[:10])\n",
        "\n",
        "# Dimensions of data:\n",
        "# Player: 11.1k rows, 7 cols\n",
        "# Player_Attributes: 184k rows, 42 cols\n",
        "# Team: 299 rows, 5 cols\n",
        "\n",
        "### Exploratory Data Analysis\n",
        "# Using match data, for each league, get its start date and end date for the 2015-16 season (and for each season)\n",
        "print()\n",
        "\n",
        "# Using match data, for each match played in 2015-16, compile a list of teams\n",
        "# Create a pie chart showing what leagues the teams played in\n",
        "# Compile a list of players that played for each team during the 2015-16 season\n",
        "\n",
        "# Using that list, get each player's stats for the 2015-16 season\n",
        "\n",
        "# Pie chart of seasons in player_attributes (using start date and end date for each season, as seen earlier)\n",
        "player_attributes_df['date']\n",
        "# player_attributes_df.loc('date')\n",
        "\n",
        "# Distribution of numerical variables"
      ],
      "metadata": {
        "id": "oG9Fkk9ZV6Eq"
      },
      "execution_count": null,
      "outputs": []
    },
    {
      "cell_type": "code",
      "source": [
        "# Data cleaning and feature engineering (including Principal Component Analysis)"
      ],
      "metadata": {
        "id": "_rfr97lLoLPe"
      },
      "execution_count": null,
      "outputs": []
    }
  ]
}